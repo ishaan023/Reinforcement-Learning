{
 "cells": [
  {
   "cell_type": "code",
   "execution_count": 5,
   "id": "aedc926a",
   "metadata": {},
   "outputs": [],
   "source": [
    "import numpy as np"
   ]
  },
  {
   "cell_type": "markdown",
   "id": "3501d149",
   "metadata": {},
   "source": [
    "# R Matrix"
   ]
  },
  {
   "cell_type": "code",
   "execution_count": 6,
   "id": "112212f8",
   "metadata": {},
   "outputs": [],
   "source": [
    "R = np.matrix([[-1,-1,-1,-1,0,-1],\n",
    "               [-1,-1,-1,0,-1,100],\n",
    "               [-1,-1,-1,0,-1,-1],\n",
    "               [-1,0,0,-1,0,-1],\n",
    "               [-1,0,0,-1,-1,100],\n",
    "               [-1,0,-1,-1,0,100]])"
   ]
  },
  {
   "cell_type": "code",
   "execution_count": 7,
   "id": "f8362c46",
   "metadata": {},
   "outputs": [
    {
     "data": {
      "text/plain": [
       "matrix([[ -1,  -1,  -1,  -1,   0,  -1],\n",
       "        [ -1,  -1,  -1,   0,  -1, 100],\n",
       "        [ -1,  -1,  -1,   0,  -1,  -1],\n",
       "        [ -1,   0,   0,  -1,   0,  -1],\n",
       "        [ -1,   0,   0,  -1,  -1, 100],\n",
       "        [ -1,   0,  -1,  -1,   0, 100]])"
      ]
     },
     "execution_count": 7,
     "metadata": {},
     "output_type": "execute_result"
    }
   ],
   "source": [
    "R"
   ]
  },
  {
   "cell_type": "markdown",
   "id": "e6c55141",
   "metadata": {},
   "source": [
    "# Q Matrix"
   ]
  },
  {
   "cell_type": "code",
   "execution_count": 8,
   "id": "7e01982e",
   "metadata": {},
   "outputs": [],
   "source": [
    "Q = np.matrix(np.zeros([6,6]))"
   ]
  },
  {
   "cell_type": "code",
   "execution_count": 9,
   "id": "109ea15d",
   "metadata": {},
   "outputs": [
    {
     "data": {
      "text/plain": [
       "matrix([[0., 0., 0., 0., 0., 0.],\n",
       "        [0., 0., 0., 0., 0., 0.],\n",
       "        [0., 0., 0., 0., 0., 0.],\n",
       "        [0., 0., 0., 0., 0., 0.],\n",
       "        [0., 0., 0., 0., 0., 0.],\n",
       "        [0., 0., 0., 0., 0., 0.]])"
      ]
     },
     "execution_count": 9,
     "metadata": {},
     "output_type": "execute_result"
    }
   ],
   "source": [
    "Q"
   ]
  },
  {
   "cell_type": "code",
   "execution_count": 10,
   "id": "f3182e09",
   "metadata": {},
   "outputs": [],
   "source": [
    "gamma = 0.8\n",
    "initial_state = 1"
   ]
  },
  {
   "cell_type": "markdown",
   "id": "2c921b09",
   "metadata": {},
   "source": [
    "#### This function returns all available actions in the state given as an argument"
   ]
  },
  {
   "cell_type": "code",
   "execution_count": 11,
   "id": "2b005c44",
   "metadata": {},
   "outputs": [],
   "source": [
    "def available_actions(state):\n",
    "    current_state_row = R[state, ]\n",
    "    av_act = np.where(current_state_row >= 0)[1]\n",
    "    return av_act"
   ]
  },
  {
   "cell_type": "markdown",
   "id": "3fae7875",
   "metadata": {},
   "source": [
    "#### Get available actions in the current state"
   ]
  },
  {
   "cell_type": "code",
   "execution_count": 12,
   "id": "5d0c2d83",
   "metadata": {},
   "outputs": [],
   "source": [
    "available_action = available_actions(initial_state)"
   ]
  },
  {
   "cell_type": "code",
   "execution_count": 13,
   "id": "f4a3a961",
   "metadata": {},
   "outputs": [
    {
     "data": {
      "text/plain": [
       "array([3, 5])"
      ]
     },
     "execution_count": 13,
     "metadata": {},
     "output_type": "execute_result"
    }
   ],
   "source": [
    "available_action"
   ]
  },
  {
   "cell_type": "markdown",
   "id": "cfd32a0e",
   "metadata": {},
   "source": [
    "#### This function chooses at random which action to be performed within the range of all available actions"
   ]
  },
  {
   "cell_type": "code",
   "execution_count": 14,
   "id": "4fdaaa1b",
   "metadata": {},
   "outputs": [],
   "source": [
    "def sample_next_action(available_actions_range):\n",
    "    next_action = int(np.random.choice(available_action,1))\n",
    "    return next_action"
   ]
  },
  {
   "cell_type": "markdown",
   "id": "f8f18c36",
   "metadata": {},
   "source": [
    "#### Sample next action to be performed "
   ]
  },
  {
   "cell_type": "code",
   "execution_count": 15,
   "id": "60aa4d37",
   "metadata": {},
   "outputs": [],
   "source": [
    "action = sample_next_action(available_action)"
   ]
  },
  {
   "cell_type": "code",
   "execution_count": 16,
   "id": "49a7403c",
   "metadata": {},
   "outputs": [
    {
     "data": {
      "text/plain": [
       "5"
      ]
     },
     "execution_count": 16,
     "metadata": {},
     "output_type": "execute_result"
    }
   ],
   "source": [
    "action"
   ]
  },
  {
   "cell_type": "markdown",
   "id": "5471cb88",
   "metadata": {},
   "source": [
    "#### This function updates  Q matrix according to the path selected and the Q-learning algorithm"
   ]
  },
  {
   "cell_type": "code",
   "execution_count": 17,
   "id": "9933a0ba",
   "metadata": {},
   "outputs": [],
   "source": [
    "def update(current_state,action,gamma):\n",
    "    max_index = np.where(Q[action,]==np.max(Q[action,]))[1]\n",
    "    \n",
    "    if max_index.shape[0] > 1:\n",
    "        max_index = int(np.random.choice(max_index,size=1))\n",
    "    else:\n",
    "        max_index = int(max_index)\n",
    "    max_value=Q[action,max_index]\n",
    "        \n",
    "    # Q-learning formula\n",
    "    Q[current_state,action] = R[current_state,action] + (gamma*max_value)\n",
    "        \n",
    "# Update Q matrix\n",
    "update(initial_state,action,gamma)       "
   ]
  },
  {
   "cell_type": "code",
   "execution_count": 18,
   "id": "7580e387",
   "metadata": {},
   "outputs": [
    {
     "data": {
      "text/plain": [
       "matrix([[  0.,   0.,   0.,   0.,   0.,   0.],\n",
       "        [  0.,   0.,   0.,   0.,   0., 100.],\n",
       "        [  0.,   0.,   0.,   0.,   0.,   0.],\n",
       "        [  0.,   0.,   0.,   0.,   0.,   0.],\n",
       "        [  0.,   0.,   0.,   0.,   0.,   0.],\n",
       "        [  0.,   0.,   0.,   0.,   0.,   0.]])"
      ]
     },
     "execution_count": 18,
     "metadata": {},
     "output_type": "execute_result"
    }
   ],
   "source": [
    "Q"
   ]
  },
  {
   "cell_type": "markdown",
   "id": "2786477c",
   "metadata": {},
   "source": [
    "#### Training"
   ]
  },
  {
   "cell_type": "code",
   "execution_count": 19,
   "id": "d2d0c1c5",
   "metadata": {},
   "outputs": [
    {
     "name": "stdout",
     "output_type": "stream",
     "text": [
      "Trained Q matrix\n",
      "[[  0.    0.    0.    0.   80.    0. ]\n",
      " [  0.    0.    0.   64.    0.  100. ]\n",
      " [  0.    0.    0.   64.    0.    0. ]\n",
      " [  0.   80.   51.2   0.   80.    0. ]\n",
      " [  0.   80.   51.2   0.    0.  100. ]\n",
      " [  0.   80.    0.    0.   80.  100. ]]\n"
     ]
    }
   ],
   "source": [
    "# Train cover 10000 iterations\n",
    "for i in range(10000):\n",
    "    current_state = np.random.randint(0,int(Q.shape[0]))\n",
    "    available_action = available_actions(current_state)\n",
    "    action = sample_next_action(available_action)\n",
    "    update(current_state,action,gamma)\n",
    "    \n",
    "#normalize the trainee Q matrix\n",
    "print(\"Trained Q matrix\")\n",
    "print(Q / np.max(Q)*100)"
   ]
  },
  {
   "cell_type": "code",
   "execution_count": 21,
   "id": "fa531c9e",
   "metadata": {},
   "outputs": [
    {
     "name": "stdout",
     "output_type": "stream",
     "text": [
      "selected path: \n",
      "[1, 5]\n"
     ]
    }
   ],
   "source": [
    "current_state = 1\n",
    "steps=[current_state]\n",
    "\n",
    "while current_state !=5:\n",
    "    next_step_index = np.where(Q[current_state,]==np.max(Q[current_state,]))[1]\n",
    "    if next_step_index.shape[0]>1:\n",
    "        next_step_index=int(np.random.choice(next_step_index,size=1))\n",
    "    else:\n",
    "        next_step_index=int(next_step_index)\n",
    "    \n",
    "    steps.append(next_step_index)\n",
    "    current_state=next_step_index\n",
    "    \n",
    "#print selected step sequence\n",
    "print(\"selected path: \")\n",
    "print(steps)"
   ]
  },
  {
   "cell_type": "code",
   "execution_count": null,
   "id": "6f84c8bf",
   "metadata": {},
   "outputs": [],
   "source": []
  },
  {
   "cell_type": "code",
   "execution_count": null,
   "id": "cf71c82e",
   "metadata": {},
   "outputs": [],
   "source": []
  }
 ],
 "metadata": {
  "kernelspec": {
   "display_name": "Python 3 (ipykernel)",
   "language": "python",
   "name": "python3"
  },
  "language_info": {
   "codemirror_mode": {
    "name": "ipython",
    "version": 3
   },
   "file_extension": ".py",
   "mimetype": "text/x-python",
   "name": "python",
   "nbconvert_exporter": "python",
   "pygments_lexer": "ipython3",
   "version": "3.9.12"
  }
 },
 "nbformat": 4,
 "nbformat_minor": 5
}
